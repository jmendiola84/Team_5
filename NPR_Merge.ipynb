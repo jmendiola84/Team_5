{
 "cells": [
  {
   "cell_type": "code",
   "execution_count": 1,
   "metadata": {},
   "outputs": [],
   "source": [
    "#Merge NPR Accounts Twitter - Wikipedia + NPR list\n"
   ]
  },
  {
   "cell_type": "code",
   "execution_count": null,
   "metadata": {},
   "outputs": [],
   "source": [
    "\n",
    "NPR_web = \"./Resources/nprstations.csv\"\n",
    "web_df = pd.read_csv(npr_stations_csv)\n",
    "\n",
    "NPR_wiki = \"./Resources/nprstations.csv\"\n",
    "wiki_df = pd.read_csv(npr_stations_csv)\n",
    "\n",
    "NPR_df=pd.merge(web_df,wiki_df,on=['x','y'],how=\"outer\",indicator=True)\n"
   ]
  },
  {
   "cell_type": "code",
   "execution_count": null,
   "metadata": {},
   "outputs": [],
   "source": [
    "NPR_df.to_csv('resources/NPR_df_merged.csv')"
   ]
  }
 ],
 "metadata": {
  "kernelspec": {
   "display_name": "Python 3",
   "language": "python",
   "name": "python3"
  },
  "language_info": {
   "codemirror_mode": {
    "name": "ipython",
    "version": 3
   },
   "file_extension": ".py",
   "mimetype": "text/x-python",
   "name": "python",
   "nbconvert_exporter": "python",
   "pygments_lexer": "ipython3",
   "version": "3.6.3"
  }
 },
 "nbformat": 4,
 "nbformat_minor": 2
}

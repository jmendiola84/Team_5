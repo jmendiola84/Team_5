{
 "cells": [
  {
   "cell_type": "code",
   "execution_count": 13,
   "metadata": {},
   "outputs": [
    {
     "data": {
      "text/html": [
       "<div>\n",
       "<style scoped>\n",
       "    .dataframe tbody tr th:only-of-type {\n",
       "        vertical-align: middle;\n",
       "    }\n",
       "\n",
       "    .dataframe tbody tr th {\n",
       "        vertical-align: top;\n",
       "    }\n",
       "\n",
       "    .dataframe thead th {\n",
       "        text-align: right;\n",
       "    }\n",
       "</style>\n",
       "<table border=\"1\" class=\"dataframe\">\n",
       "  <thead>\n",
       "    <tr style=\"text-align: right;\">\n",
       "      <th></th>\n",
       "      <th>LAT</th>\n",
       "      <th>LON</th>\n",
       "    </tr>\n",
       "  </thead>\n",
       "  <tbody>\n",
       "    <tr>\n",
       "      <th>0</th>\n",
       "      <td>38.8816</td>\n",
       "      <td>-77.0910</td>\n",
       "    </tr>\n",
       "  </tbody>\n",
       "</table>\n",
       "</div>"
      ],
      "text/plain": [
       "       LAT       LON\n",
       "0  38.8816  -77.0910"
      ]
     },
     "execution_count": 13,
     "metadata": {},
     "output_type": "execute_result"
    }
   ],
   "source": [
    "# Dependencies\n",
    "import requests\n",
    "import json\n",
    "from pprint import pprint\n",
    "import pandas as pd\n",
    "import os\n",
    "import csv\n",
    "import numpy as np\n",
    "import time \n",
    "\n",
    "url = 'https://geo.fcc.gov/api/census/block/find?'\n",
    "\n",
    "output_list = pd.DataFrame(columns=['FIPS','longitude','latitude'])\n",
    "\n",
    "d= {'LAT': ['38.8816'], 'LON': ['-77.0910']}\n",
    "df_geo = pd.DataFrame(data=d)\n",
    "df_geo.head()"
   ]
  },
  {
   "cell_type": "code",
   "execution_count": 14,
   "metadata": {},
   "outputs": [
    {
     "name": "stdout",
     "output_type": "stream",
     "text": [
      "1\n"
     ]
    }
   ],
   "source": [
    "df_geo = df_geo[['LAT','LON']]\n",
    "entry = 0\n",
    "\n",
    "for (idx, row) in df_geo.iterrows():\n",
    "    try:\n",
    "        entry += 1 \n",
    "        latitude = (row.loc['LAT'])\n",
    "        longitude = (row.loc['LON'])\n",
    "        query_url = f\"{url}&latitude={latitude}&longitude={longitude}&format=json\"\n",
    "        code = requests.get(query_url).json()\n",
    "        county_fips = code[\"County\"][\"FIPS\"]\n",
    "        block_fips = code[\"Block\"][\"FIPS\"]\n",
    "        construction_list.at[idx, 'latitude'] = latitude\n",
    "        construction_list.at[idx, 'longitude'] = longitude\n",
    "        construction_list.at[idx, 'FIPS'] = county_fips\n",
    "        construction_list.at[idx, 'FIPS_block'] = block_fips         \n",
    "        print(entry)\n",
    "    except:\n",
    "        time.sleep(5)\n",
    "        print(\"restarting...\")\n",
    "        pass"
   ]
  },
  {
   "cell_type": "code",
   "execution_count": 11,
   "metadata": {},
   "outputs": [
    {
     "data": {
      "text/html": [
       "<div>\n",
       "<style scoped>\n",
       "    .dataframe tbody tr th:only-of-type {\n",
       "        vertical-align: middle;\n",
       "    }\n",
       "\n",
       "    .dataframe tbody tr th {\n",
       "        vertical-align: top;\n",
       "    }\n",
       "\n",
       "    .dataframe thead th {\n",
       "        text-align: right;\n",
       "    }\n",
       "</style>\n",
       "<table border=\"1\" class=\"dataframe\">\n",
       "  <thead>\n",
       "    <tr style=\"text-align: right;\">\n",
       "      <th></th>\n",
       "      <th>FIPS</th>\n",
       "      <th>longitude</th>\n",
       "      <th>latitude</th>\n",
       "      <th>FIPS_block</th>\n",
       "    </tr>\n",
       "  </thead>\n",
       "  <tbody>\n",
       "    <tr>\n",
       "      <th>0</th>\n",
       "      <td>51013</td>\n",
       "      <td>-77.0910</td>\n",
       "      <td>38.8816</td>\n",
       "      <td>510131018031009</td>\n",
       "    </tr>\n",
       "  </tbody>\n",
       "</table>\n",
       "</div>"
      ],
      "text/plain": [
       "    FIPS longitude latitude       FIPS_block\n",
       "0  51013  -77.0910  38.8816  510131018031009"
      ]
     },
     "execution_count": 11,
     "metadata": {},
     "output_type": "execute_result"
    }
   ],
   "source": [
    "output_list"
   ]
  },
  {
   "cell_type": "code",
   "execution_count": null,
   "metadata": {},
   "outputs": [],
   "source": []
  }
 ],
 "metadata": {
  "kernelspec": {
   "display_name": "Python 3",
   "language": "python",
   "name": "python3"
  },
  "language_info": {
   "codemirror_mode": {
    "name": "ipython",
    "version": 3
   },
   "file_extension": ".py",
   "mimetype": "text/x-python",
   "name": "python",
   "nbconvert_exporter": "python",
   "pygments_lexer": "ipython3",
   "version": "3.6.3"
  }
 },
 "nbformat": 4,
 "nbformat_minor": 2
}

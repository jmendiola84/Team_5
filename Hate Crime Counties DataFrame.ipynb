{
 "cells": [
  {
   "cell_type": "code",
   "execution_count": 1,
   "metadata": {
    "collapsed": true
   },
   "outputs": [],
   "source": [
    "import pandas as pd\n",
    "import numpy as np\n",
    "import matplotlib.pyplot as plt\n",
    "import plotly.offline as py\n",
    "import requests\n",
    "import json\n",
    "from geopy.geocoders import Nominatim\n",
    "from config import gkey"
   ]
  },
  {
   "cell_type": "code",
   "execution_count": 23,
   "metadata": {},
   "outputs": [],
   "source": [
    "# File to load\n",
    "csv_crime_2012 = \"Table_13_Hate_Crime_Incidents_per_Bias_Motivation_and_Quarter_by_State_and_Agency_2012.csv\"\n",
    "csv_crime_2013 = \"Table_13_Hate_Crime_Incidents_per_Bias_Motivation_and_Quarter_by_State_and_Agency_2013.csv\"\n",
    "csv_crime_2014 = \"Table_13_Hate_Crime_Incidents_per_Bias_Motivation_and_Quarter_by_State_and_Agency_2014.csv\"\n",
    "csv_crime_2015 = \"Table_13_Hate_Crime_Incidents_per_Bias_Motivation_and_Quarter_by_State_and_Agency_2015.csv\"\n",
    "csv_crime_2016 = \"Table_13_Hate_Crime_Incidents_per_Bias_Motivation_and_Quarter_by_State_and_Agency_2016.csv\"\n",
    "csv_states = \"states.csv\"\n",
    "csv_population = \"population_estimates.csv\"\n",
    "\n",
    "states_df = pd.read_csv(csv_states)\n",
    "population_df = pd.read_csv(csv_population)\n",
    "hate_crime_2012 = pd.read_csv(csv_crime_2012)\n",
    "hate_crime_2013 = pd.read_csv(csv_crime_2013)\n",
    "hate_crime_2014 = pd.read_csv(csv_crime_2014)\n",
    "hate_crime_2015 = pd.read_csv(csv_crime_2015)\n",
    "hate_crime_2016 = pd.read_csv(csv_crime_2016)\n",
    "\n",
    "hate_crime_2012['2012 Crimes'] = hate_crime_2012['Race'] + hate_crime_2012['Ethnicity']\n",
    "hate_crime_2013['2013 Crimes'] = hate_crime_2013['Race'] + hate_crime_2013['Ethnicity']\n",
    "hate_crime_2014['2014 Crimes'] = hate_crime_2014['Race'] + hate_crime_2014['Ethnicity']\n",
    "hate_crime_2015 = hate_crime_2015.rename(columns={'Race/\\nEthnicity/\\nAncestry': '2015 Crimes'})\n",
    "hate_crime_2016 = hate_crime_2016.rename(columns={'Race/\\nEthnicity/\\nAncestry': '2016 Crimes'})\n",
    "\n",
    "hate_crime_2012 = hate_crime_2012[[\"State\", \"Agency name\", \"2012 Crimes\", \"Population\"]]\n",
    "hate_crime_2013 = hate_crime_2013[[\"State\", \"Agency name\", \"2013 Crimes\", \"Population\"]]\n",
    "hate_crime_2014 = hate_crime_2014[[\"State\", \"Agency name\", \"2014 Crimes\", \"Population\"]]\n",
    "hate_crime_2015 = hate_crime_2015[[\"State\", \"Agency name\", \"2015 Crimes\", \"Population\"]]\n",
    "hate_crime_2016 = hate_crime_2016[[\"State\", \"Agency name\", \"2016 Crimes\", \"Population\"]]\n",
    "\n",
    "hate_crime_2012 = hate_crime_2012[hate_crime_2012['Agency name'].notnull()]\n",
    "hate_crime_2012 = hate_crime_2012[hate_crime_2012['Population'].notnull()]\n",
    "hate_crime_2013 = hate_crime_2013[hate_crime_2013['Agency name'].notnull()]\n",
    "hate_crime_2013 = hate_crime_2013[hate_crime_2013['Population'].notnull()]\n",
    "hate_crime_2014 = hate_crime_2014[hate_crime_2014['Agency name'].notnull()]\n",
    "hate_crime_2014 = hate_crime_2014[hate_crime_2014['Population'].notnull()]\n",
    "hate_crime_2015 = hate_crime_2015[hate_crime_2015['Agency name'].notnull()]\n",
    "hate_crime_2015 = hate_crime_2015[hate_crime_2015['Population'].notnull()]\n",
    "hate_crime_2016 = hate_crime_2016[hate_crime_2016['Agency name'].notnull()]\n",
    "hate_crime_2016 = hate_crime_2016[hate_crime_2016['Population'].notnull()]\n",
    "\n"
   ]
  },
  {
   "cell_type": "code",
   "execution_count": 24,
   "metadata": {},
   "outputs": [
    {
     "data": {
      "text/html": [
       "<div>\n",
       "<style>\n",
       "    .dataframe thead tr:only-child th {\n",
       "        text-align: right;\n",
       "    }\n",
       "\n",
       "    .dataframe thead th {\n",
       "        text-align: left;\n",
       "    }\n",
       "\n",
       "    .dataframe tbody tr th {\n",
       "        vertical-align: top;\n",
       "    }\n",
       "</style>\n",
       "<table border=\"1\" class=\"dataframe\">\n",
       "  <thead>\n",
       "    <tr style=\"text-align: right;\">\n",
       "      <th></th>\n",
       "      <th>State</th>\n",
       "      <th>Agency name</th>\n",
       "    </tr>\n",
       "  </thead>\n",
       "  <tbody>\n",
       "    <tr>\n",
       "      <th>1</th>\n",
       "      <td>Alaska</td>\n",
       "      <td>Anchorage</td>\n",
       "    </tr>\n",
       "    <tr>\n",
       "      <th>3180</th>\n",
       "      <td>Alaska</td>\n",
       "      <td>Juneau</td>\n",
       "    </tr>\n",
       "    <tr>\n",
       "      <th>2813</th>\n",
       "      <td>Alaska</td>\n",
       "      <td>Kotzebue</td>\n",
       "    </tr>\n",
       "    <tr>\n",
       "      <th>2814</th>\n",
       "      <td>Alaska</td>\n",
       "      <td>North Pole</td>\n",
       "    </tr>\n",
       "    <tr>\n",
       "      <th>2815</th>\n",
       "      <td>Alaska</td>\n",
       "      <td>Soldotna</td>\n",
       "    </tr>\n",
       "    <tr>\n",
       "      <th>3181</th>\n",
       "      <td>Alaska</td>\n",
       "      <td>Wasilla</td>\n",
       "    </tr>\n",
       "  </tbody>\n",
       "</table>\n",
       "</div>"
      ],
      "text/plain": [
       "       State Agency name\n",
       "1     Alaska   Anchorage\n",
       "3180  Alaska      Juneau\n",
       "2813  Alaska    Kotzebue\n",
       "2814  Alaska  North Pole\n",
       "2815  Alaska    Soldotna\n",
       "3181  Alaska     Wasilla"
      ]
     },
     "execution_count": 24,
     "metadata": {},
     "output_type": "execute_result"
    }
   ],
   "source": [
    "\n",
    "counties_2012 = hate_crime_2012[[\"State\", \"Agency name\"]]\n",
    "counties_2013 = hate_crime_2013[[\"State\", \"Agency name\"]]\n",
    "counties_2014 = hate_crime_2014[[\"State\", \"Agency name\"]]\n",
    "counties_2015 = hate_crime_2015[[\"State\", \"Agency name\"]]\n",
    "counties_2016 = hate_crime_2016[[\"State\", \"Agency name\"]]\n",
    "\n",
    "counties_df = pd.merge(counties_2012, counties_2013, on=[\"State\",\"Agency name\"], how=\"outer\")\n",
    "counties_df = pd.merge(counties_df, counties_2014, on=[\"State\",\"Agency name\"], how=\"outer\")\n",
    "counties_df = pd.merge(counties_df, counties_2015, on=[\"State\",\"Agency name\"], how=\"outer\")\n",
    "counties_df = pd.merge(counties_df, counties_2016, on=[\"State\",\"Agency name\"], how=\"outer\")\n",
    "counties_df = counties_df[counties_df['Agency name'].notnull()]\n",
    "counties_df = counties_df.drop_duplicates()\n",
    "counties_df = counties_df.dropna(subset=['Agency name'])\n",
    "\n",
    "counties_df = counties_df.sort_values(by=['State', 'Agency name'])\n",
    "\n",
    "#counties_df = counties_df.set_index(['State'])\n",
    "#counties_df = counties_df.groupby(\"State\")\n",
    "counties_df = counties_df.loc[counties_df['State'] == 'Alaska']\n",
    "\n",
    "counties_df.head(500)\n",
    "#hate_crime_df['Agency name'].value_counts()"
   ]
  },
  {
   "cell_type": "code",
   "execution_count": null,
   "metadata": {},
   "outputs": [],
   "source": [
    "for (idx, row) in counties_df.iterrows():\n",
    "    try:\n",
    "        agency = (row.loc['Agency name'])\n",
    "        state = (row.loc['State'])\n",
    "        query_url = f\"https://maps.googleapis.com/maps/api/geocode/json?address={agency}&key={gkey}\"\n",
    "        response = requests.get(query_url).json()\n",
    "        lat = response[\"results\"][0][\"geometry\"][\"location\"][\"lat\"]\n",
    "        lng = response[\"results\"][0][\"geometry\"][\"location\"][\"lng\"]\n",
    "        #counties_df['Latitude'] = lat\n",
    "        #counties_df['Longitude'] = lng\n",
    "        counties_df.at[idx, 'Latitude'] = lat\n",
    "        counties_df.at[idx, 'Longitude'] = lng\n",
    "        #print(f\"{agency},{state}:{lat},{lng}\")\n",
    "    except:\n",
    "        #pass\n",
    "        print(\"continue\")\n",
    "        continue\n",
    "counties_df.head()"
   ]
  },
  {
   "cell_type": "code",
   "execution_count": null,
   "metadata": {},
   "outputs": [],
   "source": [
    "counties_df = pd.merge(counties_df, hate_crime_2012, on=[\"State\",\"Agency name\"], how=\"left\")\n",
    "counties_df = pd.merge(counties_df, hate_crime_2013, on=[\"State\",\"Agency name\"], how=\"left\")\n",
    "counties_df = pd.merge(counties_df, hate_crime_2014, on=[\"State\",\"Agency name\"], how=\"left\")\n",
    "counties_df = pd.merge(counties_df, hate_crime_2015, on=[\"State\",\"Agency name\"], how=\"left\")\n",
    "counties_df = pd.merge(counties_df, hate_crime_2016, on=[\"State\",\"Agency name\"], how=\"left\")\n",
    "\n",
    "\n",
    "\n",
    "counties_df.head()\n"
   ]
  },
  {
   "cell_type": "code",
   "execution_count": null,
   "metadata": {
    "collapsed": true
   },
   "outputs": [],
   "source": [
    "#Save DataFrame to CSV File\n",
    "#counties_df.to_csv('hate_crime_by_state_2012-2016.csv')"
   ]
  }
 ],
 "metadata": {
  "kernelspec": {
   "display_name": "Python 3",
   "language": "python",
   "name": "python3"
  },
  "language_info": {
   "codemirror_mode": {
    "name": "ipython",
    "version": 3
   },
   "file_extension": ".py",
   "mimetype": "text/x-python",
   "name": "python",
   "nbconvert_exporter": "python",
   "pygments_lexer": "ipython3",
   "version": "3.6.3"
  }
 },
 "nbformat": 4,
 "nbformat_minor": 2
}

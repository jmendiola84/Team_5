{
 "cells": [
  {
   "cell_type": "code",
   "execution_count": null,
   "metadata": {},
   "outputs": [],
   "source": [
    "#Scatter Plot Hate Crime Rate vs Foreign Born Rate\n"
   ]
  },
  {
   "cell_type": "code",
   "execution_count": 44,
   "metadata": {},
   "outputs": [],
   "source": [
    "import pandas as pd\n",
    "import numpy as np\n",
    "import matplotlib.pyplot as plt\n",
    "from scipy.stats import linregress\n",
    "import seaborn as sns"
   ]
  },
  {
   "cell_type": "code",
   "execution_count": 6,
   "metadata": {},
   "outputs": [],
   "source": [
    "hate_crime_csv = \"./Resources/hate_crime_by_county_2012-2016_final.csv\"\n",
    "foreign_csv = \"./Resources/census_immig.csv\"\n",
    "\n",
    "hate_crime_df = pd.read_csv(hate_crime_csv)\n",
    "foreign_df = pd.read_csv(foreign_csv)\n"
   ]
  },
  {
   "cell_type": "code",
   "execution_count": 7,
   "metadata": {},
   "outputs": [
    {
     "data": {
      "text/html": [
       "<div>\n",
       "<style scoped>\n",
       "    .dataframe tbody tr th:only-of-type {\n",
       "        vertical-align: middle;\n",
       "    }\n",
       "\n",
       "    .dataframe tbody tr th {\n",
       "        vertical-align: top;\n",
       "    }\n",
       "\n",
       "    .dataframe thead th {\n",
       "        text-align: right;\n",
       "    }\n",
       "</style>\n",
       "<table border=\"1\" class=\"dataframe\">\n",
       "  <thead>\n",
       "    <tr style=\"text-align: right;\">\n",
       "      <th></th>\n",
       "      <th>FIPS</th>\n",
       "      <th>2012-2016 Combined Crime Rate</th>\n",
       "    </tr>\n",
       "  </thead>\n",
       "  <tbody>\n",
       "    <tr>\n",
       "      <th>1185</th>\n",
       "      <td>55109</td>\n",
       "      <td>1.153</td>\n",
       "    </tr>\n",
       "    <tr>\n",
       "      <th>1186</th>\n",
       "      <td>55117</td>\n",
       "      <td>2.603</td>\n",
       "    </tr>\n",
       "    <tr>\n",
       "      <th>1187</th>\n",
       "      <td>55133</td>\n",
       "      <td>0.506</td>\n",
       "    </tr>\n",
       "    <tr>\n",
       "      <th>1188</th>\n",
       "      <td>56005</td>\n",
       "      <td>12.378</td>\n",
       "    </tr>\n",
       "    <tr>\n",
       "      <th>1189</th>\n",
       "      <td>56007</td>\n",
       "      <td>6.371</td>\n",
       "    </tr>\n",
       "  </tbody>\n",
       "</table>\n",
       "</div>"
      ],
      "text/plain": [
       "       FIPS  2012-2016 Combined Crime Rate\n",
       "1185  55109                          1.153\n",
       "1186  55117                          2.603\n",
       "1187  55133                          0.506\n",
       "1188  56005                         12.378\n",
       "1189  56007                          6.371"
      ]
     },
     "execution_count": 7,
     "metadata": {},
     "output_type": "execute_result"
    }
   ],
   "source": [
    "hate_crime_df['2012-2016 Combined Crime Rate'] = round(hate_crime_df[\"Total Crimes\"].astype(\"float\") / hate_crime_df[\"Population\"] * 100000,3)\n",
    "hate_crime_df = hate_crime_df[[\"FIPS\",\"2012-2016 Combined Crime Rate\"]]\n",
    "hate_crime_df = hate_crime_df.loc[hate_crime_df['2012-2016 Combined Crime Rate'] != 0.0]\n",
    "\n",
    "hate_crime_df.tail()"
   ]
  },
  {
   "cell_type": "code",
   "execution_count": 8,
   "metadata": {},
   "outputs": [
    {
     "data": {
      "text/html": [
       "<div>\n",
       "<style scoped>\n",
       "    .dataframe tbody tr th:only-of-type {\n",
       "        vertical-align: middle;\n",
       "    }\n",
       "\n",
       "    .dataframe tbody tr th {\n",
       "        vertical-align: top;\n",
       "    }\n",
       "\n",
       "    .dataframe thead th {\n",
       "        text-align: right;\n",
       "    }\n",
       "</style>\n",
       "<table border=\"1\" class=\"dataframe\">\n",
       "  <thead>\n",
       "    <tr style=\"text-align: right;\">\n",
       "      <th></th>\n",
       "      <th>FIPS</th>\n",
       "      <th>ForeignBorn_Rate</th>\n",
       "    </tr>\n",
       "  </thead>\n",
       "  <tbody>\n",
       "    <tr>\n",
       "      <th>0</th>\n",
       "      <td>1001</td>\n",
       "      <td>1.838362</td>\n",
       "    </tr>\n",
       "    <tr>\n",
       "      <th>1</th>\n",
       "      <td>1003</td>\n",
       "      <td>3.269510</td>\n",
       "    </tr>\n",
       "    <tr>\n",
       "      <th>2</th>\n",
       "      <td>1005</td>\n",
       "      <td>2.859397</td>\n",
       "    </tr>\n",
       "    <tr>\n",
       "      <th>3</th>\n",
       "      <td>1007</td>\n",
       "      <td>1.351232</td>\n",
       "    </tr>\n",
       "    <tr>\n",
       "      <th>4</th>\n",
       "      <td>1009</td>\n",
       "      <td>4.271801</td>\n",
       "    </tr>\n",
       "  </tbody>\n",
       "</table>\n",
       "</div>"
      ],
      "text/plain": [
       "   FIPS  ForeignBorn_Rate\n",
       "0  1001          1.838362\n",
       "1  1003          3.269510\n",
       "2  1005          2.859397\n",
       "3  1007          1.351232\n",
       "4  1009          4.271801"
      ]
     },
     "execution_count": 8,
     "metadata": {},
     "output_type": "execute_result"
    }
   ],
   "source": [
    "foreign_df = foreign_df[[\"combined_fips\",\"ForeignBorn_Rate\"]]\n",
    "foreign_df = foreign_df.rename(columns={'combined_fips': 'FIPS'})\n",
    "foreign_df.head()"
   ]
  },
  {
   "cell_type": "code",
   "execution_count": 9,
   "metadata": {},
   "outputs": [
    {
     "data": {
      "text/html": [
       "<div>\n",
       "<style scoped>\n",
       "    .dataframe tbody tr th:only-of-type {\n",
       "        vertical-align: middle;\n",
       "    }\n",
       "\n",
       "    .dataframe tbody tr th {\n",
       "        vertical-align: top;\n",
       "    }\n",
       "\n",
       "    .dataframe thead th {\n",
       "        text-align: right;\n",
       "    }\n",
       "</style>\n",
       "<table border=\"1\" class=\"dataframe\">\n",
       "  <thead>\n",
       "    <tr style=\"text-align: right;\">\n",
       "      <th></th>\n",
       "      <th>FIPS</th>\n",
       "      <th>2012-2016 Combined Crime Rate</th>\n",
       "      <th>ForeignBorn_Rate</th>\n",
       "    </tr>\n",
       "  </thead>\n",
       "  <tbody>\n",
       "    <tr>\n",
       "      <th>1098</th>\n",
       "      <td>55109</td>\n",
       "      <td>1.153</td>\n",
       "      <td>2.453705</td>\n",
       "    </tr>\n",
       "    <tr>\n",
       "      <th>1099</th>\n",
       "      <td>55117</td>\n",
       "      <td>2.603</td>\n",
       "      <td>5.754366</td>\n",
       "    </tr>\n",
       "    <tr>\n",
       "      <th>1100</th>\n",
       "      <td>55133</td>\n",
       "      <td>0.506</td>\n",
       "      <td>4.902410</td>\n",
       "    </tr>\n",
       "    <tr>\n",
       "      <th>1101</th>\n",
       "      <td>56005</td>\n",
       "      <td>12.378</td>\n",
       "      <td>3.645328</td>\n",
       "    </tr>\n",
       "    <tr>\n",
       "      <th>1102</th>\n",
       "      <td>56007</td>\n",
       "      <td>6.371</td>\n",
       "      <td>5.198777</td>\n",
       "    </tr>\n",
       "  </tbody>\n",
       "</table>\n",
       "</div>"
      ],
      "text/plain": [
       "       FIPS  2012-2016 Combined Crime Rate  ForeignBorn_Rate\n",
       "1098  55109                          1.153          2.453705\n",
       "1099  55117                          2.603          5.754366\n",
       "1100  55133                          0.506          4.902410\n",
       "1101  56005                         12.378          3.645328\n",
       "1102  56007                          6.371          5.198777"
      ]
     },
     "execution_count": 9,
     "metadata": {},
     "output_type": "execute_result"
    }
   ],
   "source": [
    "hate_vs_foreign = pd.merge(hate_crime_df, foreign_df, on=\"FIPS\", how=\"left\")\n",
    "hate_vs_foreign.tail()"
   ]
  },
  {
   "cell_type": "code",
   "execution_count": 62,
   "metadata": {},
   "outputs": [
    {
     "data": {
      "image/png": "[encoded data removed]",
      "text/plain": [
       "<Figure size 432x288 with 1 Axes>"
      ]
     },
     "metadata": {},
     "output_type": "display_data"
    }
   ],
   "source": [
    "crime_rate = hate_vs_foreign[\"2012-2016 Combined Crime Rate\"]\n",
    "foreign = hate_vs_foreign[\"ForeignBorn_Rate\"]\n",
    "\n",
    "plt.clf()\n",
    "plt.scatter(foreign, crime_rate, marker=\"o\", facecolors=\"blue\", edgecolors=\"black\",\n",
    "            linewidth=1, alpha=0.75)\n",
    "sns.regplot(x=foreign, y=crime_rate, data=hate_vs_foreign);\n",
    "#plt.ylim(200,625)\n",
    "#plt.xlim(13,25)\n",
    "plt.title(\"Hate Crime Rate vs Foreign Born Rate by County\")\n",
    "plt.ylabel(\"Hate Crime Rate (per 10,000)\")\n",
    "plt.xlabel(\"Foreign Born Rate (%)\")\n",
    "plt.savefig(\"Crime-vs-Foreign.png\")\n",
    "plt.show()\n"
   ]
  },
  {
   "cell_type": "code",
   "execution_count": 15,
   "metadata": {},
   "outputs": [
    {
     "data": {
      "text/html": [
       "<div>\n",
       "<style scoped>\n",
       "    .dataframe tbody tr th:only-of-type {\n",
       "        vertical-align: middle;\n",
       "    }\n",
       "\n",
       "    .dataframe tbody tr th {\n",
       "        vertical-align: top;\n",
       "    }\n",
       "\n",
       "    .dataframe thead th {\n",
       "        text-align: right;\n",
       "    }\n",
       "</style>\n",
       "<table border=\"1\" class=\"dataframe\">\n",
       "  <thead>\n",
       "    <tr style=\"text-align: right;\">\n",
       "      <th></th>\n",
       "      <th>FIPS</th>\n",
       "      <th>Poverty Rate</th>\n",
       "    </tr>\n",
       "  </thead>\n",
       "  <tbody>\n",
       "    <tr>\n",
       "      <th>0</th>\n",
       "      <td>1001</td>\n",
       "      <td>12.165525</td>\n",
       "    </tr>\n",
       "    <tr>\n",
       "      <th>1</th>\n",
       "      <td>1003</td>\n",
       "      <td>12.806877</td>\n",
       "    </tr>\n",
       "    <tr>\n",
       "      <th>2</th>\n",
       "      <td>1005</td>\n",
       "      <td>23.427519</td>\n",
       "    </tr>\n",
       "    <tr>\n",
       "      <th>3</th>\n",
       "      <td>1007</td>\n",
       "      <td>15.018607</td>\n",
       "    </tr>\n",
       "    <tr>\n",
       "      <th>4</th>\n",
       "      <td>1009</td>\n",
       "      <td>16.361084</td>\n",
       "    </tr>\n",
       "  </tbody>\n",
       "</table>\n",
       "</div>"
      ],
      "text/plain": [
       "   FIPS  Poverty Rate\n",
       "0  1001     12.165525\n",
       "1  1003     12.806877\n",
       "2  1005     23.427519\n",
       "3  1007     15.018607\n",
       "4  1009     16.361084"
      ]
     },
     "execution_count": 15,
     "metadata": {},
     "output_type": "execute_result"
    }
   ],
   "source": [
    "poverty_df = pd.read_csv(foreign_csv)\n",
    "poverty_df = poverty_df[[\"combined_fips\",\"Poverty Rate\"]]\n",
    "poverty_df = poverty_df.rename(columns={'combined_fips': 'FIPS'})\n",
    "poverty_df.head()"
   ]
  },
  {
   "cell_type": "code",
   "execution_count": 16,
   "metadata": {},
   "outputs": [
    {
     "data": {
      "text/html": [
       "<div>\n",
       "<style scoped>\n",
       "    .dataframe tbody tr th:only-of-type {\n",
       "        vertical-align: middle;\n",
       "    }\n",
       "\n",
       "    .dataframe tbody tr th {\n",
       "        vertical-align: top;\n",
       "    }\n",
       "\n",
       "    .dataframe thead th {\n",
       "        text-align: right;\n",
       "    }\n",
       "</style>\n",
       "<table border=\"1\" class=\"dataframe\">\n",
       "  <thead>\n",
       "    <tr style=\"text-align: right;\">\n",
       "      <th></th>\n",
       "      <th>FIPS</th>\n",
       "      <th>2012-2016 Combined Crime Rate</th>\n",
       "      <th>Poverty Rate</th>\n",
       "    </tr>\n",
       "  </thead>\n",
       "  <tbody>\n",
       "    <tr>\n",
       "      <th>1098</th>\n",
       "      <td>55109</td>\n",
       "      <td>1.153</td>\n",
       "      <td>5.593478</td>\n",
       "    </tr>\n",
       "    <tr>\n",
       "      <th>1099</th>\n",
       "      <td>55117</td>\n",
       "      <td>2.603</td>\n",
       "      <td>8.625042</td>\n",
       "    </tr>\n",
       "    <tr>\n",
       "      <th>1100</th>\n",
       "      <td>55133</td>\n",
       "      <td>0.506</td>\n",
       "      <td>5.100701</td>\n",
       "    </tr>\n",
       "    <tr>\n",
       "      <th>1101</th>\n",
       "      <td>56005</td>\n",
       "      <td>12.378</td>\n",
       "      <td>8.041590</td>\n",
       "    </tr>\n",
       "    <tr>\n",
       "      <th>1102</th>\n",
       "      <td>56007</td>\n",
       "      <td>6.371</td>\n",
       "      <td>13.589450</td>\n",
       "    </tr>\n",
       "  </tbody>\n",
       "</table>\n",
       "</div>"
      ],
      "text/plain": [
       "       FIPS  2012-2016 Combined Crime Rate  Poverty Rate\n",
       "1098  55109                          1.153      5.593478\n",
       "1099  55117                          2.603      8.625042\n",
       "1100  55133                          0.506      5.100701\n",
       "1101  56005                         12.378      8.041590\n",
       "1102  56007                          6.371     13.589450"
      ]
     },
     "execution_count": 16,
     "metadata": {},
     "output_type": "execute_result"
    }
   ],
   "source": [
    "crime_vs_poverty = pd.merge(hate_crime_df, poverty_df, on=\"FIPS\", how = \"left\")\n",
    "crime_vs_poverty.tail()"
   ]
  },
  {
   "cell_type": "code",
   "execution_count": 61,
   "metadata": {},
   "outputs": [
    {
     "data": {
      "image/png": "[encoded data removed]",
      "text/plain": [
       "<Figure size 432x288 with 1 Axes>"
      ]
     },
     "metadata": {},
     "output_type": "display_data"
    }
   ],
   "source": [
    "crime_rate = crime_vs_poverty[\"2012-2016 Combined Crime Rate\"]\n",
    "poverty = crime_vs_poverty[\"Poverty Rate\"]\n",
    "\n",
    "plt.clf()\n",
    "\n",
    "plt.scatter(poverty, crime_rate, marker=\"o\", facecolors=\"blue\", edgecolors=\"black\",\n",
    "            linewidth=1, alpha=0.75)\n",
    "sns.regplot(x=poverty, y=crime_rate, data=crime_vs_poverty);\n",
    "\n",
    "#plt.ylim(200,625)\n",
    "#plt.xlim(13,25)\n",
    "\n",
    "plt.title(\"Hate Crime Rate vs Poverty Rate by County\")\n",
    "plt.ylabel(\"Hate Crime Rate (per 10,000)\")\n",
    "plt.xlabel(\"Poverty Rate (%)\")\n",
    "plt.savefig(\"Crime-vs-Poverty.png\")\n",
    "plt.show()"
   ]
  },
  {
   "cell_type": "code",
   "execution_count": 21,
   "metadata": {},
   "outputs": [
    {
     "data": {
      "text/html": [
       "<div>\n",
       "<style scoped>\n",
       "    .dataframe tbody tr th:only-of-type {\n",
       "        vertical-align: middle;\n",
       "    }\n",
       "\n",
       "    .dataframe tbody tr th {\n",
       "        vertical-align: top;\n",
       "    }\n",
       "\n",
       "    .dataframe thead th {\n",
       "        text-align: right;\n",
       "    }\n",
       "</style>\n",
       "<table border=\"1\" class=\"dataframe\">\n",
       "  <thead>\n",
       "    <tr style=\"text-align: right;\">\n",
       "      <th></th>\n",
       "      <th>FIPS</th>\n",
       "      <th>Household Income</th>\n",
       "    </tr>\n",
       "  </thead>\n",
       "  <tbody>\n",
       "    <tr>\n",
       "      <th>0</th>\n",
       "      <td>1001</td>\n",
       "      <td>53099.0</td>\n",
       "    </tr>\n",
       "    <tr>\n",
       "      <th>1</th>\n",
       "      <td>1003</td>\n",
       "      <td>51365.0</td>\n",
       "    </tr>\n",
       "    <tr>\n",
       "      <th>2</th>\n",
       "      <td>1005</td>\n",
       "      <td>33956.0</td>\n",
       "    </tr>\n",
       "    <tr>\n",
       "      <th>3</th>\n",
       "      <td>1007</td>\n",
       "      <td>39776.0</td>\n",
       "    </tr>\n",
       "    <tr>\n",
       "      <th>4</th>\n",
       "      <td>1009</td>\n",
       "      <td>46212.0</td>\n",
       "    </tr>\n",
       "  </tbody>\n",
       "</table>\n",
       "</div>"
      ],
      "text/plain": [
       "   FIPS  Household Income\n",
       "0  1001           53099.0\n",
       "1  1003           51365.0\n",
       "2  1005           33956.0\n",
       "3  1007           39776.0\n",
       "4  1009           46212.0"
      ]
     },
     "execution_count": 21,
     "metadata": {},
     "output_type": "execute_result"
    }
   ],
   "source": [
    "income_df = pd.read_csv(foreign_csv)\n",
    "income_df = income_df[[\"combined_fips\",\"Household Income\"]]\n",
    "income_df = income_df.rename(columns={'combined_fips': 'FIPS'})\n",
    "income_df.head()"
   ]
  },
  {
   "cell_type": "code",
   "execution_count": 22,
   "metadata": {},
   "outputs": [
    {
     "data": {
      "text/html": [
       "<div>\n",
       "<style scoped>\n",
       "    .dataframe tbody tr th:only-of-type {\n",
       "        vertical-align: middle;\n",
       "    }\n",
       "\n",
       "    .dataframe tbody tr th {\n",
       "        vertical-align: top;\n",
       "    }\n",
       "\n",
       "    .dataframe thead th {\n",
       "        text-align: right;\n",
       "    }\n",
       "</style>\n",
       "<table border=\"1\" class=\"dataframe\">\n",
       "  <thead>\n",
       "    <tr style=\"text-align: right;\">\n",
       "      <th></th>\n",
       "      <th>FIPS</th>\n",
       "      <th>2012-2016 Combined Crime Rate</th>\n",
       "      <th>Household Income</th>\n",
       "    </tr>\n",
       "  </thead>\n",
       "  <tbody>\n",
       "    <tr>\n",
       "      <th>1098</th>\n",
       "      <td>55109</td>\n",
       "      <td>1.153</td>\n",
       "      <td>73743.0</td>\n",
       "    </tr>\n",
       "    <tr>\n",
       "      <th>1099</th>\n",
       "      <td>55117</td>\n",
       "      <td>2.603</td>\n",
       "      <td>54392.0</td>\n",
       "    </tr>\n",
       "    <tr>\n",
       "      <th>1100</th>\n",
       "      <td>55133</td>\n",
       "      <td>0.506</td>\n",
       "      <td>78268.0</td>\n",
       "    </tr>\n",
       "    <tr>\n",
       "      <th>1101</th>\n",
       "      <td>56005</td>\n",
       "      <td>12.378</td>\n",
       "      <td>80822.0</td>\n",
       "    </tr>\n",
       "    <tr>\n",
       "      <th>1102</th>\n",
       "      <td>56007</td>\n",
       "      <td>6.371</td>\n",
       "      <td>56972.0</td>\n",
       "    </tr>\n",
       "  </tbody>\n",
       "</table>\n",
       "</div>"
      ],
      "text/plain": [
       "       FIPS  2012-2016 Combined Crime Rate  Household Income\n",
       "1098  55109                          1.153           73743.0\n",
       "1099  55117                          2.603           54392.0\n",
       "1100  55133                          0.506           78268.0\n",
       "1101  56005                         12.378           80822.0\n",
       "1102  56007                          6.371           56972.0"
      ]
     },
     "execution_count": 22,
     "metadata": {},
     "output_type": "execute_result"
    }
   ],
   "source": [
    "crime_vs_income = pd.merge(hate_crime_df, income_df, on=\"FIPS\", how = \"left\")\n",
    "crime_vs_income.tail()"
   ]
  },
  {
   "cell_type": "code",
   "execution_count": 58,
   "metadata": {},
   "outputs": [
    {
     "data": {
      "image/png": "[encoded data removed]",
      "text/plain": [
       "<Figure size 432x288 with 1 Axes>"
      ]
     },
     "metadata": {},
     "output_type": "display_data"
    }
   ],
   "source": [
    "crime_rate = crime_vs_income[\"2012-2016 Combined Crime Rate\"]\n",
    "income = crime_vs_income[\"Household Income\"]\n",
    "\n",
    "plt.clf()\n",
    "\n",
    "\n",
    "plt.scatter(income, crime_rate, marker=\"o\", facecolors=\"blue\", edgecolors=\"black\",\n",
    "            linewidth=1, alpha=0.75)\n",
    "sns.regplot(x=income, y=crime_rate, data=crime_vs_income);\n",
    "\n",
    "#plt.ylim(200,625)\n",
    "#plt.xlim(13,25)\n",
    "plt.title(\"Hate Crime Rate vs Household Income by County\")\n",
    "plt.ylabel(\"Hate Crime Rate (per 10,000)\")\n",
    "plt.xlabel(\"Household Income ($)\")\n",
    "plt.savefig(\"Crime-vs-Income.png\")\n",
    "plt.show()\n"
   ]
  },
  {
   "cell_type": "code",
   "execution_count": null,
   "metadata": {},
   "outputs": [],
   "source": []
  },
  {
   "cell_type": "code",
   "execution_count": null,
   "metadata": {},
   "outputs": [],
   "source": []
  },
  {
   "cell_type": "code",
   "execution_count": null,
   "metadata": {},
   "outputs": [],
   "source": []
  },
  {
   "cell_type": "code",
   "execution_count": null,
   "metadata": {},
   "outputs": [],
   "source": []
  }
 ],
 "metadata": {
  "kernelspec": {
   "display_name": "Python 3",
   "language": "python",
   "name": "python3"
  },
  "language_info": {
   "codemirror_mode": {
    "name": "ipython",
    "version": 3
   },
   "file_extension": ".py",
   "mimetype": "text/x-python",
   "name": "python",
   "nbconvert_exporter": "python",
   "pygments_lexer": "ipython3",
   "version": "3.5.5"
  }
 },
 "nbformat": 4,
 "nbformat_minor": 2
}

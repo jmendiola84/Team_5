{
 "cells": [
  {
   "cell_type": "code",
   "execution_count": 18,
   "metadata": {},
   "outputs": [
    {
     "data": {
      "text/html": [
       "<div>\n",
       "<style scoped>\n",
       "    .dataframe tbody tr th:only-of-type {\n",
       "        vertical-align: middle;\n",
       "    }\n",
       "\n",
       "    .dataframe tbody tr th {\n",
       "        vertical-align: top;\n",
       "    }\n",
       "\n",
       "    .dataframe thead th {\n",
       "        text-align: right;\n",
       "    }\n",
       "</style>\n",
       "<table border=\"1\" class=\"dataframe\">\n",
       "  <thead>\n",
       "    <tr style=\"text-align: right;\">\n",
       "      <th></th>\n",
       "      <th>USPS</th>\n",
       "      <th>GEOID</th>\n",
       "      <th>ANSICODE</th>\n",
       "      <th>NAME</th>\n",
       "      <th>ALAND</th>\n",
       "      <th>AWATER</th>\n",
       "      <th>ALAND_SQMI</th>\n",
       "      <th>AWATER_SQMI</th>\n",
       "      <th>INTPTLAT</th>\n",
       "      <th>INTPTLONG</th>\n",
       "    </tr>\n",
       "  </thead>\n",
       "  <tbody>\n",
       "    <tr>\n",
       "      <th>0</th>\n",
       "      <td>AL</td>\n",
       "      <td>1001</td>\n",
       "      <td>161526</td>\n",
       "      <td>Autauga County</td>\n",
       "      <td>1.539615e+09</td>\n",
       "      <td>25744269</td>\n",
       "      <td>594.449</td>\n",
       "      <td>9.94</td>\n",
       "      <td>32.532237</td>\n",
       "      <td>-86.64644</td>\n",
       "    </tr>\n",
       "  </tbody>\n",
       "</table>\n",
       "</div>"
      ],
      "text/plain": [
       "  USPS  GEOID  ANSICODE            NAME         ALAND    AWATER  ALAND_SQMI  \\\n",
       "0   AL   1001    161526  Autauga County  1.539615e+09  25744269     594.449   \n",
       "\n",
       "   AWATER_SQMI   INTPTLAT  \\\n",
       "0         9.94  32.532237   \n",
       "\n",
       "   INTPTLONG                                                                                                                 \n",
       "0                                          -86.64644                                                                         "
      ]
     },
     "execution_count": 18,
     "metadata": {},
     "output_type": "execute_result"
    }
   ],
   "source": [
    "# Dependencies\n",
    "import requests\n",
    "import json\n",
    "from pprint import pprint\n",
    "import pandas as pd\n",
    "import os\n",
    "import csv\n",
    "import numpy as np\n",
    "import time \n",
    "\n",
    "os.chdir(\"/Users/rorr/PythonStuff\")\n",
    "path = os.path.join(\"Team_5\",\"Gazetteer_2017_counties.csv\")\n",
    "GazCo = pd.read_csv(path)\n",
    "GazCo.head(1)\n",
    "\n",
    "#### Make me the correct url\n",
    "url = 'https://geo.fcc.gov/api/census/block/find?'\n"
   ]
  },
  {
   "cell_type": "code",
   "execution_count": null,
   "metadata": {},
   "outputs": [],
   "source": [
    "\n",
    "output_list = pd.DataFrame(columns=['FIPS','longitude','latitude'])\n",
    "\n",
    "d= {'LAT': ['38.8816'], 'LON': ['-77.0910']}\n",
    "df_geo = pd.DataFrame(data=d)\n",
    "df_geo.head()"
   ]
  },
  {
   "cell_type": "code",
   "execution_count": null,
   "metadata": {},
   "outputs": [],
   "source": [
    "df_geo = df_geo[['INTPTLAT','INTPTLONG']]\n",
    "entry = 0\n",
    "\n",
    "for (idx, row) in df_geo.iterrows():\n",
    "    try:\n",
    "        entry += 1 \n",
    "        latitude = (row.loc['INTPTLAT'])\n",
    "        longitude = (row.loc['INTPTLONG'])\n",
    "        query_url = f\"{url}&latitude={latitude}&longitude={longitude}&format=json\"\n",
    "        code = requests.get(query_url).json()\n",
    "        county_fips = code[\"County\"][\"FIPS\"]\n",
    "        block_fips = code[\"Block\"][\"FIPS\"]\n",
    "        construction_list.at[idx, 'latitude'] = latitude\n",
    "        construction_list.at[idx, 'longitude'] = longitude\n",
    "        construction_list.at[idx, 'FIPS'] = county_fips\n",
    "        construction_list.at[idx, 'FIPS_block'] = block_fips         \n",
    "        print(entry)\n",
    "    except:\n",
    "        time.sleep(5)\n",
    "        print(\"restarting...\")\n",
    "        pass"
   ]
  }
 ],
 "metadata": {
  "kernelspec": {
   "display_name": "Python 3",
   "language": "python",
   "name": "python3"
  },
  "language_info": {
   "codemirror_mode": {
    "name": "ipython",
    "version": 3
   },
   "file_extension": ".py",
   "mimetype": "text/x-python",
   "name": "python",
   "nbconvert_exporter": "python",
   "pygments_lexer": "ipython3",
   "version": "3.6.3"
  }
 },
 "nbformat": 4,
 "nbformat_minor": 2
}
